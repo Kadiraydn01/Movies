{
 "cells": [
  {
   "cell_type": "code",
   "execution_count": 59,
   "metadata": {},
   "outputs": [],
   "source": [
    "import numpy as np\n",
    "import matplotlib.pyplot as plt\n",
    "import patsy\n",
    "import pandas as pd\n",
    "import seaborn as sns\n",
    "import statsmodels.api as sm\n",
    "import statsmodels.formula.api as smf\n",
    "from sklearn.linear_model import LinearRegression , Ridge\n",
    "from sklearn.model_selection import train_test_split\n",
    "from sklearn.metrics import mean_squared_error, mean_absolute_error, r2_score\n",
    "from sklearn.preprocessing import StandardScaler, PolynomialFeatures\n",
    "from sklearn.model_selection import cross_val_score\n"
   ]
  },
  {
   "cell_type": "code",
   "execution_count": 3,
   "metadata": {},
   "outputs": [],
   "source": [
    "df_movie=pd.read_csv('movie.csv',sep=';')\n",
    "df_cost=pd.read_csv('cost.csv', sep=';')"
   ]
  },
  {
   "cell_type": "code",
   "execution_count": 4,
   "metadata": {},
   "outputs": [
    {
     "name": "stdout",
     "output_type": "stream",
     "text": [
      "<class 'pandas.core.frame.DataFrame'>\n",
      "RangeIndex: 6442 entries, 0 to 6441\n",
      "Data columns (total 6 columns):\n",
      " #   Column        Non-Null Count  Dtype \n",
      "---  ------        --------------  ----- \n",
      " 0   Movie Name    6442 non-null   object\n",
      " 1   Release_year  6442 non-null   int64 \n",
      " 2   Minutes       6442 non-null   int64 \n",
      " 3   Movie_Rating  6442 non-null   int64 \n",
      " 4   Votes         6442 non-null   int64 \n",
      " 5   MetaScore     6442 non-null   int64 \n",
      "dtypes: int64(5), object(1)\n",
      "memory usage: 302.1+ KB\n"
     ]
    }
   ],
   "source": [
    "df_movie.info()"
   ]
  },
  {
   "cell_type": "code",
   "execution_count": 5,
   "metadata": {},
   "outputs": [
    {
     "name": "stdout",
     "output_type": "stream",
     "text": [
      "<class 'pandas.core.frame.DataFrame'>\n",
      "RangeIndex: 478 entries, 0 to 477\n",
      "Data columns (total 5 columns):\n",
      " #   Column           Non-Null Count  Dtype \n",
      "---  ------           --------------  ----- \n",
      " 0   Movie Name       478 non-null    object\n",
      " 1   Production_cost  478 non-null    int64 \n",
      " 2   Domestic_gross   478 non-null    int64 \n",
      " 3   Worldwide_gross  478 non-null    int64 \n",
      " 4   Genre            478 non-null    object\n",
      "dtypes: int64(3), object(2)\n",
      "memory usage: 18.8+ KB\n"
     ]
    }
   ],
   "source": [
    "df_cost.info()"
   ]
  },
  {
   "cell_type": "code",
   "execution_count": 6,
   "metadata": {},
   "outputs": [],
   "source": [
    "df=pd.merge(df_movie,df_cost,on='Movie Name')"
   ]
  },
  {
   "cell_type": "code",
   "execution_count": 7,
   "metadata": {},
   "outputs": [
    {
     "name": "stdout",
     "output_type": "stream",
     "text": [
      "<class 'pandas.core.frame.DataFrame'>\n",
      "RangeIndex: 451 entries, 0 to 450\n",
      "Data columns (total 10 columns):\n",
      " #   Column           Non-Null Count  Dtype \n",
      "---  ------           --------------  ----- \n",
      " 0   Movie Name       451 non-null    object\n",
      " 1   Release_year     451 non-null    int64 \n",
      " 2   Minutes          451 non-null    int64 \n",
      " 3   Movie_Rating     451 non-null    int64 \n",
      " 4   Votes            451 non-null    int64 \n",
      " 5   MetaScore        451 non-null    int64 \n",
      " 6   Production_cost  451 non-null    int64 \n",
      " 7   Domestic_gross   451 non-null    int64 \n",
      " 8   Worldwide_gross  451 non-null    int64 \n",
      " 9   Genre            451 non-null    object\n",
      "dtypes: int64(8), object(2)\n",
      "memory usage: 35.4+ KB\n"
     ]
    }
   ],
   "source": [
    "df.info()"
   ]
  },
  {
   "cell_type": "code",
   "execution_count": 8,
   "metadata": {},
   "outputs": [
    {
     "data": {
      "text/html": [
       "<div>\n",
       "<style scoped>\n",
       "    .dataframe tbody tr th:only-of-type {\n",
       "        vertical-align: middle;\n",
       "    }\n",
       "\n",
       "    .dataframe tbody tr th {\n",
       "        vertical-align: top;\n",
       "    }\n",
       "\n",
       "    .dataframe thead th {\n",
       "        text-align: right;\n",
       "    }\n",
       "</style>\n",
       "<table border=\"1\" class=\"dataframe\">\n",
       "  <thead>\n",
       "    <tr style=\"text-align: right;\">\n",
       "      <th></th>\n",
       "      <th>Movie Name</th>\n",
       "      <th>Release_year</th>\n",
       "      <th>Minutes</th>\n",
       "      <th>Movie_Rating</th>\n",
       "      <th>Votes</th>\n",
       "      <th>MetaScore</th>\n",
       "      <th>Production_cost</th>\n",
       "      <th>Domestic_gross</th>\n",
       "      <th>Worldwide_gross</th>\n",
       "      <th>Genre</th>\n",
       "    </tr>\n",
       "  </thead>\n",
       "  <tbody>\n",
       "    <tr>\n",
       "      <th>0</th>\n",
       "      <td>Rogue One: A Star Wars Story</td>\n",
       "      <td>2016</td>\n",
       "      <td>133</td>\n",
       "      <td>78</td>\n",
       "      <td>668814</td>\n",
       "      <td>650</td>\n",
       "      <td>200000000</td>\n",
       "      <td>533539991</td>\n",
       "      <td>1055083596</td>\n",
       "      <td>Adventure</td>\n",
       "    </tr>\n",
       "    <tr>\n",
       "      <th>1</th>\n",
       "      <td>Monster Trucks</td>\n",
       "      <td>2016</td>\n",
       "      <td>104</td>\n",
       "      <td>57</td>\n",
       "      <td>18371</td>\n",
       "      <td>410</td>\n",
       "      <td>125000000</td>\n",
       "      <td>33370166</td>\n",
       "      <td>61642798</td>\n",
       "      <td>Adventure</td>\n",
       "    </tr>\n",
       "    <tr>\n",
       "      <th>2</th>\n",
       "      <td>The 13th Warrior</td>\n",
       "      <td>1999</td>\n",
       "      <td>102</td>\n",
       "      <td>66</td>\n",
       "      <td>129683</td>\n",
       "      <td>420</td>\n",
       "      <td>125000000</td>\n",
       "      <td>32698899</td>\n",
       "      <td>61698899</td>\n",
       "      <td>Action</td>\n",
       "    </tr>\n",
       "    <tr>\n",
       "      <th>3</th>\n",
       "      <td>Final Fantasy: The Spirits Within</td>\n",
       "      <td>2001</td>\n",
       "      <td>106</td>\n",
       "      <td>64</td>\n",
       "      <td>83417</td>\n",
       "      <td>490</td>\n",
       "      <td>137000000</td>\n",
       "      <td>32131830</td>\n",
       "      <td>85131830</td>\n",
       "      <td>Adventure</td>\n",
       "    </tr>\n",
       "    <tr>\n",
       "      <th>4</th>\n",
       "      <td>Stealth</td>\n",
       "      <td>2005</td>\n",
       "      <td>121</td>\n",
       "      <td>51</td>\n",
       "      <td>55572</td>\n",
       "      <td>350</td>\n",
       "      <td>138000000</td>\n",
       "      <td>32116746</td>\n",
       "      <td>76416746</td>\n",
       "      <td>Action</td>\n",
       "    </tr>\n",
       "  </tbody>\n",
       "</table>\n",
       "</div>"
      ],
      "text/plain": [
       "                          Movie Name  Release_year  Minutes  Movie_Rating  \\\n",
       "0       Rogue One: A Star Wars Story          2016      133            78   \n",
       "1                     Monster Trucks          2016      104            57   \n",
       "2                   The 13th Warrior          1999      102            66   \n",
       "3  Final Fantasy: The Spirits Within          2001      106            64   \n",
       "4                            Stealth          2005      121            51   \n",
       "\n",
       "    Votes  MetaScore  Production_cost  Domestic_gross  Worldwide_gross  \\\n",
       "0  668814        650        200000000       533539991       1055083596   \n",
       "1   18371        410        125000000        33370166         61642798   \n",
       "2  129683        420        125000000        32698899         61698899   \n",
       "3   83417        490        137000000        32131830         85131830   \n",
       "4   55572        350        138000000        32116746         76416746   \n",
       "\n",
       "       Genre  \n",
       "0  Adventure  \n",
       "1  Adventure  \n",
       "2     Action  \n",
       "3  Adventure  \n",
       "4     Action  "
      ]
     },
     "execution_count": 8,
     "metadata": {},
     "output_type": "execute_result"
    }
   ],
   "source": [
    "df.head()"
   ]
  },
  {
   "cell_type": "code",
   "execution_count": 9,
   "metadata": {},
   "outputs": [],
   "source": [
    "df.drop(['Movie Name','Domestic_gross','Release_year','Genre'], axis=1, inplace=True)"
   ]
  },
  {
   "cell_type": "code",
   "execution_count": 10,
   "metadata": {},
   "outputs": [
    {
     "data": {
      "text/html": [
       "<div>\n",
       "<style scoped>\n",
       "    .dataframe tbody tr th:only-of-type {\n",
       "        vertical-align: middle;\n",
       "    }\n",
       "\n",
       "    .dataframe tbody tr th {\n",
       "        vertical-align: top;\n",
       "    }\n",
       "\n",
       "    .dataframe thead th {\n",
       "        text-align: right;\n",
       "    }\n",
       "</style>\n",
       "<table border=\"1\" class=\"dataframe\">\n",
       "  <thead>\n",
       "    <tr style=\"text-align: right;\">\n",
       "      <th></th>\n",
       "      <th>Minutes</th>\n",
       "      <th>Movie_Rating</th>\n",
       "      <th>Votes</th>\n",
       "      <th>MetaScore</th>\n",
       "      <th>Production_cost</th>\n",
       "      <th>Worldwide_gross</th>\n",
       "    </tr>\n",
       "  </thead>\n",
       "  <tbody>\n",
       "    <tr>\n",
       "      <th>Minutes</th>\n",
       "      <td>1.000000</td>\n",
       "      <td>0.271282</td>\n",
       "      <td>0.449051</td>\n",
       "      <td>0.124842</td>\n",
       "      <td>0.220412</td>\n",
       "      <td>0.226057</td>\n",
       "    </tr>\n",
       "    <tr>\n",
       "      <th>Movie_Rating</th>\n",
       "      <td>0.271282</td>\n",
       "      <td>1.000000</td>\n",
       "      <td>0.677365</td>\n",
       "      <td>0.817511</td>\n",
       "      <td>0.099010</td>\n",
       "      <td>0.421468</td>\n",
       "    </tr>\n",
       "    <tr>\n",
       "      <th>Votes</th>\n",
       "      <td>0.449051</td>\n",
       "      <td>0.677365</td>\n",
       "      <td>1.000000</td>\n",
       "      <td>0.501887</td>\n",
       "      <td>0.219581</td>\n",
       "      <td>0.512907</td>\n",
       "    </tr>\n",
       "    <tr>\n",
       "      <th>MetaScore</th>\n",
       "      <td>0.124842</td>\n",
       "      <td>0.817511</td>\n",
       "      <td>0.501887</td>\n",
       "      <td>1.000000</td>\n",
       "      <td>0.102788</td>\n",
       "      <td>0.377760</td>\n",
       "    </tr>\n",
       "    <tr>\n",
       "      <th>Production_cost</th>\n",
       "      <td>0.220412</td>\n",
       "      <td>0.099010</td>\n",
       "      <td>0.219581</td>\n",
       "      <td>0.102788</td>\n",
       "      <td>1.000000</td>\n",
       "      <td>0.551486</td>\n",
       "    </tr>\n",
       "    <tr>\n",
       "      <th>Worldwide_gross</th>\n",
       "      <td>0.226057</td>\n",
       "      <td>0.421468</td>\n",
       "      <td>0.512907</td>\n",
       "      <td>0.377760</td>\n",
       "      <td>0.551486</td>\n",
       "      <td>1.000000</td>\n",
       "    </tr>\n",
       "  </tbody>\n",
       "</table>\n",
       "</div>"
      ],
      "text/plain": [
       "                  Minutes  Movie_Rating     Votes  MetaScore  Production_cost  \\\n",
       "Minutes          1.000000      0.271282  0.449051   0.124842         0.220412   \n",
       "Movie_Rating     0.271282      1.000000  0.677365   0.817511         0.099010   \n",
       "Votes            0.449051      0.677365  1.000000   0.501887         0.219581   \n",
       "MetaScore        0.124842      0.817511  0.501887   1.000000         0.102788   \n",
       "Production_cost  0.220412      0.099010  0.219581   0.102788         1.000000   \n",
       "Worldwide_gross  0.226057      0.421468  0.512907   0.377760         0.551486   \n",
       "\n",
       "                 Worldwide_gross  \n",
       "Minutes                 0.226057  \n",
       "Movie_Rating            0.421468  \n",
       "Votes                   0.512907  \n",
       "MetaScore               0.377760  \n",
       "Production_cost         0.551486  \n",
       "Worldwide_gross         1.000000  "
      ]
     },
     "execution_count": 10,
     "metadata": {},
     "output_type": "execute_result"
    }
   ],
   "source": [
    "df.corr()"
   ]
  },
  {
   "cell_type": "code",
   "execution_count": 11,
   "metadata": {},
   "outputs": [
    {
     "data": {
      "text/plain": [
       "<Axes: >"
      ]
     },
     "execution_count": 11,
     "metadata": {},
     "output_type": "execute_result"
    },
    {
     "data": {
      "image/png": "[encoded data removed]",
      "text/plain": [
       "<Figure size 1000x1000 with 2 Axes>"
      ]
     },
     "metadata": {},
     "output_type": "display_data"
    }
   ],
   "source": [
    "plt.figure(figsize=(10, 10))\n",
    "sns.heatmap(df.corr(), annot=True, cmap='seismic', vmin=-1, vmax=1)"
   ]
  },
  {
   "cell_type": "code",
   "execution_count": 12,
   "metadata": {},
   "outputs": [
    {
     "data": {
      "text/html": [
       "<table class=\"simpletable\">\n",
       "<caption>OLS Regression Results</caption>\n",
       "<tr>\n",
       "  <th>Dep. Variable:</th>      <td>Movie_Rating</td>   <th>  R-squared:         </th> <td>   0.765</td> \n",
       "</tr>\n",
       "<tr>\n",
       "  <th>Model:</th>                   <td>OLS</td>       <th>  Adj. R-squared:    </th> <td>   0.763</td> \n",
       "</tr>\n",
       "<tr>\n",
       "  <th>Method:</th>             <td>Least Squares</td>  <th>  F-statistic:       </th> <td>   484.8</td> \n",
       "</tr>\n",
       "<tr>\n",
       "  <th>Date:</th>             <td>Thu, 04 Apr 2024</td> <th>  Prob (F-statistic):</th> <td>4.37e-140</td>\n",
       "</tr>\n",
       "<tr>\n",
       "  <th>Time:</th>                 <td>18:06:23</td>     <th>  Log-Likelihood:    </th> <td> -1279.7</td> \n",
       "</tr>\n",
       "<tr>\n",
       "  <th>No. Observations:</th>      <td>   451</td>      <th>  AIC:               </th> <td>   2567.</td> \n",
       "</tr>\n",
       "<tr>\n",
       "  <th>Df Residuals:</th>          <td>   447</td>      <th>  BIC:               </th> <td>   2584.</td> \n",
       "</tr>\n",
       "<tr>\n",
       "  <th>Df Model:</th>              <td>     3</td>      <th>                     </th>     <td> </td>    \n",
       "</tr>\n",
       "<tr>\n",
       "  <th>Covariance Type:</th>      <td>nonrobust</td>    <th>                     </th>     <td> </td>    \n",
       "</tr>\n",
       "</table>\n",
       "<table class=\"simpletable\">\n",
       "<tr>\n",
       "      <td></td>         <th>coef</th>     <th>std err</th>      <th>t</th>      <th>P>|t|</th>  <th>[0.025</th>    <th>0.975]</th>  \n",
       "</tr>\n",
       "<tr>\n",
       "  <th>const</th>     <td>   42.5916</td> <td>    1.353</td> <td>   31.487</td> <td> 0.000</td> <td>   39.933</td> <td>   45.250</td>\n",
       "</tr>\n",
       "<tr>\n",
       "  <th>Minutes</th>   <td>    0.0143</td> <td>    0.009</td> <td>    1.540</td> <td> 0.124</td> <td>   -0.004</td> <td>    0.033</td>\n",
       "</tr>\n",
       "<tr>\n",
       "  <th>Votes</th>     <td>  8.02e-06</td> <td> 7.08e-07</td> <td>   11.329</td> <td> 0.000</td> <td> 6.63e-06</td> <td> 9.41e-06</td>\n",
       "</tr>\n",
       "<tr>\n",
       "  <th>MetaScore</th> <td>    0.0347</td> <td>    0.001</td> <td>   24.071</td> <td> 0.000</td> <td>    0.032</td> <td>    0.038</td>\n",
       "</tr>\n",
       "</table>\n",
       "<table class=\"simpletable\">\n",
       "<tr>\n",
       "  <th>Omnibus:</th>       <td> 6.578</td> <th>  Durbin-Watson:     </th> <td>   1.964</td>\n",
       "</tr>\n",
       "<tr>\n",
       "  <th>Prob(Omnibus):</th> <td> 0.037</td> <th>  Jarque-Bera (JB):  </th> <td>   6.921</td>\n",
       "</tr>\n",
       "<tr>\n",
       "  <th>Skew:</th>          <td>-0.215</td> <th>  Prob(JB):          </th> <td>  0.0314</td>\n",
       "</tr>\n",
       "<tr>\n",
       "  <th>Kurtosis:</th>      <td> 3.428</td> <th>  Cond. No.          </th> <td>3.60e+06</td>\n",
       "</tr>\n",
       "</table><br/><br/>Notes:<br/>[1] Standard Errors assume that the covariance matrix of the errors is correctly specified.<br/>[2] The condition number is large, 3.6e+06. This might indicate that there are<br/>strong multicollinearity or other numerical problems."
      ],
      "text/latex": [
       "\\begin{center}\n",
       "\\begin{tabular}{lclc}\n",
       "\\toprule\n",
       "\\textbf{Dep. Variable:}    &  Movie\\_Rating   & \\textbf{  R-squared:         } &     0.765   \\\\\n",
       "\\textbf{Model:}            &       OLS        & \\textbf{  Adj. R-squared:    } &     0.763   \\\\\n",
       "\\textbf{Method:}           &  Least Squares   & \\textbf{  F-statistic:       } &     484.8   \\\\\n",
       "\\textbf{Date:}             & Thu, 04 Apr 2024 & \\textbf{  Prob (F-statistic):} & 4.37e-140   \\\\\n",
       "\\textbf{Time:}             &     18:06:23     & \\textbf{  Log-Likelihood:    } &   -1279.7   \\\\\n",
       "\\textbf{No. Observations:} &         451      & \\textbf{  AIC:               } &     2567.   \\\\\n",
       "\\textbf{Df Residuals:}     &         447      & \\textbf{  BIC:               } &     2584.   \\\\\n",
       "\\textbf{Df Model:}         &           3      & \\textbf{                     } &             \\\\\n",
       "\\textbf{Covariance Type:}  &    nonrobust     & \\textbf{                     } &             \\\\\n",
       "\\bottomrule\n",
       "\\end{tabular}\n",
       "\\begin{tabular}{lcccccc}\n",
       "                   & \\textbf{coef} & \\textbf{std err} & \\textbf{t} & \\textbf{P$> |$t$|$} & \\textbf{[0.025} & \\textbf{0.975]}  \\\\\n",
       "\\midrule\n",
       "\\textbf{const}     &      42.5916  &        1.353     &    31.487  &         0.000        &       39.933    &       45.250     \\\\\n",
       "\\textbf{Minutes}   &       0.0143  &        0.009     &     1.540  &         0.124        &       -0.004    &        0.033     \\\\\n",
       "\\textbf{Votes}     &     8.02e-06  &     7.08e-07     &    11.329  &         0.000        &     6.63e-06    &     9.41e-06     \\\\\n",
       "\\textbf{MetaScore} &       0.0347  &        0.001     &    24.071  &         0.000        &        0.032    &        0.038     \\\\\n",
       "\\bottomrule\n",
       "\\end{tabular}\n",
       "\\begin{tabular}{lclc}\n",
       "\\textbf{Omnibus:}       &  6.578 & \\textbf{  Durbin-Watson:     } &    1.964  \\\\\n",
       "\\textbf{Prob(Omnibus):} &  0.037 & \\textbf{  Jarque-Bera (JB):  } &    6.921  \\\\\n",
       "\\textbf{Skew:}          & -0.215 & \\textbf{  Prob(JB):          } &   0.0314  \\\\\n",
       "\\textbf{Kurtosis:}      &  3.428 & \\textbf{  Cond. No.          } & 3.60e+06  \\\\\n",
       "\\bottomrule\n",
       "\\end{tabular}\n",
       "%\\caption{OLS Regression Results}\n",
       "\\end{center}\n",
       "\n",
       "Notes: \\newline\n",
       " [1] Standard Errors assume that the covariance matrix of the errors is correctly specified. \\newline\n",
       " [2] The condition number is large, 3.6e+06. This might indicate that there are \\newline\n",
       " strong multicollinearity or other numerical problems."
      ],
      "text/plain": [
       "<class 'statsmodels.iolib.summary.Summary'>\n",
       "\"\"\"\n",
       "                            OLS Regression Results                            \n",
       "==============================================================================\n",
       "Dep. Variable:           Movie_Rating   R-squared:                       0.765\n",
       "Model:                            OLS   Adj. R-squared:                  0.763\n",
       "Method:                 Least Squares   F-statistic:                     484.8\n",
       "Date:                Thu, 04 Apr 2024   Prob (F-statistic):          4.37e-140\n",
       "Time:                        18:06:23   Log-Likelihood:                -1279.7\n",
       "No. Observations:                 451   AIC:                             2567.\n",
       "Df Residuals:                     447   BIC:                             2584.\n",
       "Df Model:                           3                                         \n",
       "Covariance Type:            nonrobust                                         \n",
       "==============================================================================\n",
       "                 coef    std err          t      P>|t|      [0.025      0.975]\n",
       "------------------------------------------------------------------------------\n",
       "const         42.5916      1.353     31.487      0.000      39.933      45.250\n",
       "Minutes        0.0143      0.009      1.540      0.124      -0.004       0.033\n",
       "Votes        8.02e-06   7.08e-07     11.329      0.000    6.63e-06    9.41e-06\n",
       "MetaScore      0.0347      0.001     24.071      0.000       0.032       0.038\n",
       "==============================================================================\n",
       "Omnibus:                        6.578   Durbin-Watson:                   1.964\n",
       "Prob(Omnibus):                  0.037   Jarque-Bera (JB):                6.921\n",
       "Skew:                          -0.215   Prob(JB):                       0.0314\n",
       "Kurtosis:                       3.428   Cond. No.                     3.60e+06\n",
       "==============================================================================\n",
       "\n",
       "Notes:\n",
       "[1] Standard Errors assume that the covariance matrix of the errors is correctly specified.\n",
       "[2] The condition number is large, 3.6e+06. This might indicate that there are\n",
       "strong multicollinearity or other numerical problems.\n",
       "\"\"\""
      ]
     },
     "execution_count": 12,
     "metadata": {},
     "output_type": "execute_result"
    }
   ],
   "source": [
    "\n",
    "X = df.drop(columns=['Movie_Rating','Production_cost','Worldwide_gross'])\n",
    "X= sm.add_constant(X)\n",
    "y = df['Movie_Rating']\n",
    "new_model =sm.OLS(y, X).fit()\n",
    "new_model.summary()"
   ]
  },
  {
   "cell_type": "code",
   "execution_count": 13,
   "metadata": {},
   "outputs": [
    {
     "data": {
      "image/png": "[encoded data removed]",
      "text/plain": [
       "<Figure size 640x480 with 1 Axes>"
      ]
     },
     "metadata": {},
     "output_type": "display_data"
    }
   ],
   "source": [
    "sns.scatterplot(data=df, x='MetaScore', y='Movie_Rating')\n",
    "plt.title('MetaScore ile Movie Rating Arasındaki İlişki')\n",
    "plt.xlabel('MetaScore')\n",
    "plt.ylabel('Movie Rating')\n",
    "plt.show()"
   ]
  },
  {
   "cell_type": "code",
   "execution_count": 14,
   "metadata": {},
   "outputs": [
    {
     "name": "stdout",
     "output_type": "stream",
     "text": [
      "Pearson Korelasyon Katsayısı: 0.8175108524764335\n"
     ]
    }
   ],
   "source": [
    "\n",
    "correlation = df['MetaScore'].corr(df['Movie_Rating'])\n",
    "print(\"Pearson Korelasyon Katsayısı:\", correlation)\n"
   ]
  },
  {
   "cell_type": "code",
   "execution_count": 25,
   "metadata": {},
   "outputs": [
    {
     "data": {
      "text/html": [
       "<div>\n",
       "<style scoped>\n",
       "    .dataframe tbody tr th:only-of-type {\n",
       "        vertical-align: middle;\n",
       "    }\n",
       "\n",
       "    .dataframe tbody tr th {\n",
       "        vertical-align: top;\n",
       "    }\n",
       "\n",
       "    .dataframe thead th {\n",
       "        text-align: right;\n",
       "    }\n",
       "</style>\n",
       "<table border=\"1\" class=\"dataframe\">\n",
       "  <thead>\n",
       "    <tr style=\"text-align: right;\">\n",
       "      <th></th>\n",
       "      <th>Minutes</th>\n",
       "      <th>Movie_Rating</th>\n",
       "      <th>Votes</th>\n",
       "      <th>MetaScore</th>\n",
       "      <th>Production_cost</th>\n",
       "      <th>Worldwide_gross</th>\n",
       "    </tr>\n",
       "  </thead>\n",
       "  <tbody>\n",
       "    <tr>\n",
       "      <th>0</th>\n",
       "      <td>133</td>\n",
       "      <td>78</td>\n",
       "      <td>668814</td>\n",
       "      <td>650</td>\n",
       "      <td>200000000</td>\n",
       "      <td>1055083596</td>\n",
       "    </tr>\n",
       "    <tr>\n",
       "      <th>1</th>\n",
       "      <td>104</td>\n",
       "      <td>57</td>\n",
       "      <td>18371</td>\n",
       "      <td>410</td>\n",
       "      <td>125000000</td>\n",
       "      <td>61642798</td>\n",
       "    </tr>\n",
       "    <tr>\n",
       "      <th>2</th>\n",
       "      <td>102</td>\n",
       "      <td>66</td>\n",
       "      <td>129683</td>\n",
       "      <td>420</td>\n",
       "      <td>125000000</td>\n",
       "      <td>61698899</td>\n",
       "    </tr>\n",
       "    <tr>\n",
       "      <th>3</th>\n",
       "      <td>106</td>\n",
       "      <td>64</td>\n",
       "      <td>83417</td>\n",
       "      <td>490</td>\n",
       "      <td>137000000</td>\n",
       "      <td>85131830</td>\n",
       "    </tr>\n",
       "    <tr>\n",
       "      <th>4</th>\n",
       "      <td>121</td>\n",
       "      <td>51</td>\n",
       "      <td>55572</td>\n",
       "      <td>350</td>\n",
       "      <td>138000000</td>\n",
       "      <td>76416746</td>\n",
       "    </tr>\n",
       "  </tbody>\n",
       "</table>\n",
       "</div>"
      ],
      "text/plain": [
       "   Minutes  Movie_Rating   Votes  MetaScore  Production_cost  Worldwide_gross\n",
       "0      133            78  668814        650        200000000       1055083596\n",
       "1      104            57   18371        410        125000000         61642798\n",
       "2      102            66  129683        420        125000000         61698899\n",
       "3      106            64   83417        490        137000000         85131830\n",
       "4      121            51   55572        350        138000000         76416746"
      ]
     },
     "execution_count": 25,
     "metadata": {},
     "output_type": "execute_result"
    }
   ],
   "source": [
    "df.head()"
   ]
  },
  {
   "cell_type": "code",
   "execution_count": 15,
   "metadata": {},
   "outputs": [
    {
     "name": "stdout",
     "output_type": "stream",
     "text": [
      "29.060570021369905\n",
      "4.412812645690583\n",
      "0.6206020842840501\n"
     ]
    }
   ],
   "source": [
    "X = df[['MetaScore']]\n",
    "y = df['Movie_Rating']\n",
    "\n",
    "X_train, X_test, y_train, y_test = train_test_split(X, y, test_size=0.2, random_state=42)\n",
    "model=LinearRegression()\n",
    "model.fit(X_train, y_train)\n",
    "\n",
    "y_pred = model.predict(X_test)\n",
    "mse=mean_squared_error(y_test, y_pred)\n",
    "print(mse)\n",
    "msa=mean_absolute_error(y_test, y_pred)\n",
    "print(msa)\n",
    "r2 = r2_score(y_test, y_pred)\n",
    "print(r2)"
   ]
  },
  {
   "cell_type": "code",
   "execution_count": 16,
   "metadata": {},
   "outputs": [
    {
     "data": {
      "text/html": [
       "<table class=\"simpletable\">\n",
       "<caption>OLS Regression Results</caption>\n",
       "<tr>\n",
       "  <th>Dep. Variable:</th>      <td>Movie_Rating</td>   <th>  R-squared:         </th> <td>   0.764</td> \n",
       "</tr>\n",
       "<tr>\n",
       "  <th>Model:</th>                   <td>OLS</td>       <th>  Adj. R-squared:    </th> <td>   0.763</td> \n",
       "</tr>\n",
       "<tr>\n",
       "  <th>Method:</th>             <td>Least Squares</td>  <th>  F-statistic:       </th> <td>   723.8</td> \n",
       "</tr>\n",
       "<tr>\n",
       "  <th>Date:</th>             <td>Thu, 04 Apr 2024</td> <th>  Prob (F-statistic):</th> <td>4.69e-141</td>\n",
       "</tr>\n",
       "<tr>\n",
       "  <th>Time:</th>                 <td>18:06:23</td>     <th>  Log-Likelihood:    </th> <td> -1280.9</td> \n",
       "</tr>\n",
       "<tr>\n",
       "  <th>No. Observations:</th>      <td>   451</td>      <th>  AIC:               </th> <td>   2568.</td> \n",
       "</tr>\n",
       "<tr>\n",
       "  <th>Df Residuals:</th>          <td>   448</td>      <th>  BIC:               </th> <td>   2580.</td> \n",
       "</tr>\n",
       "<tr>\n",
       "  <th>Df Model:</th>              <td>     2</td>      <th>                     </th>     <td> </td>    \n",
       "</tr>\n",
       "<tr>\n",
       "  <th>Covariance Type:</th>      <td>nonrobust</td>    <th>                     </th>     <td> </td>    \n",
       "</tr>\n",
       "</table>\n",
       "<table class=\"simpletable\">\n",
       "<tr>\n",
       "      <td></td>         <th>coef</th>     <th>std err</th>      <th>t</th>      <th>P>|t|</th>  <th>[0.025</th>    <th>0.975]</th>  \n",
       "</tr>\n",
       "<tr>\n",
       "  <th>Intercept</th> <td>   44.3038</td> <td>    0.771</td> <td>   57.435</td> <td> 0.000</td> <td>   42.788</td> <td>   45.820</td>\n",
       "</tr>\n",
       "<tr>\n",
       "  <th>MetaScore</th> <td>    0.0344</td> <td>    0.001</td> <td>   24.039</td> <td> 0.000</td> <td>    0.032</td> <td>    0.037</td>\n",
       "</tr>\n",
       "<tr>\n",
       "  <th>Votes</th>     <td> 8.511e-06</td> <td> 6.33e-07</td> <td>   13.443</td> <td> 0.000</td> <td> 7.27e-06</td> <td> 9.76e-06</td>\n",
       "</tr>\n",
       "</table>\n",
       "<table class=\"simpletable\">\n",
       "<tr>\n",
       "  <th>Omnibus:</th>       <td> 5.384</td> <th>  Durbin-Watson:     </th> <td>   1.962</td>\n",
       "</tr>\n",
       "<tr>\n",
       "  <th>Prob(Omnibus):</th> <td> 0.068</td> <th>  Jarque-Bera (JB):  </th> <td>   5.368</td>\n",
       "</tr>\n",
       "<tr>\n",
       "  <th>Skew:</th>          <td>-0.206</td> <th>  Prob(JB):          </th> <td>  0.0683</td>\n",
       "</tr>\n",
       "<tr>\n",
       "  <th>Kurtosis:</th>      <td> 3.341</td> <th>  Cond. No.          </th> <td>2.05e+06</td>\n",
       "</tr>\n",
       "</table><br/><br/>Notes:<br/>[1] Standard Errors assume that the covariance matrix of the errors is correctly specified.<br/>[2] The condition number is large, 2.05e+06. This might indicate that there are<br/>strong multicollinearity or other numerical problems."
      ],
      "text/latex": [
       "\\begin{center}\n",
       "\\begin{tabular}{lclc}\n",
       "\\toprule\n",
       "\\textbf{Dep. Variable:}    &  Movie\\_Rating   & \\textbf{  R-squared:         } &     0.764   \\\\\n",
       "\\textbf{Model:}            &       OLS        & \\textbf{  Adj. R-squared:    } &     0.763   \\\\\n",
       "\\textbf{Method:}           &  Least Squares   & \\textbf{  F-statistic:       } &     723.8   \\\\\n",
       "\\textbf{Date:}             & Thu, 04 Apr 2024 & \\textbf{  Prob (F-statistic):} & 4.69e-141   \\\\\n",
       "\\textbf{Time:}             &     18:06:23     & \\textbf{  Log-Likelihood:    } &   -1280.9   \\\\\n",
       "\\textbf{No. Observations:} &         451      & \\textbf{  AIC:               } &     2568.   \\\\\n",
       "\\textbf{Df Residuals:}     &         448      & \\textbf{  BIC:               } &     2580.   \\\\\n",
       "\\textbf{Df Model:}         &           2      & \\textbf{                     } &             \\\\\n",
       "\\textbf{Covariance Type:}  &    nonrobust     & \\textbf{                     } &             \\\\\n",
       "\\bottomrule\n",
       "\\end{tabular}\n",
       "\\begin{tabular}{lcccccc}\n",
       "                   & \\textbf{coef} & \\textbf{std err} & \\textbf{t} & \\textbf{P$> |$t$|$} & \\textbf{[0.025} & \\textbf{0.975]}  \\\\\n",
       "\\midrule\n",
       "\\textbf{Intercept} &      44.3038  &        0.771     &    57.435  &         0.000        &       42.788    &       45.820     \\\\\n",
       "\\textbf{MetaScore} &       0.0344  &        0.001     &    24.039  &         0.000        &        0.032    &        0.037     \\\\\n",
       "\\textbf{Votes}     &    8.511e-06  &     6.33e-07     &    13.443  &         0.000        &     7.27e-06    &     9.76e-06     \\\\\n",
       "\\bottomrule\n",
       "\\end{tabular}\n",
       "\\begin{tabular}{lclc}\n",
       "\\textbf{Omnibus:}       &  5.384 & \\textbf{  Durbin-Watson:     } &    1.962  \\\\\n",
       "\\textbf{Prob(Omnibus):} &  0.068 & \\textbf{  Jarque-Bera (JB):  } &    5.368  \\\\\n",
       "\\textbf{Skew:}          & -0.206 & \\textbf{  Prob(JB):          } &   0.0683  \\\\\n",
       "\\textbf{Kurtosis:}      &  3.341 & \\textbf{  Cond. No.          } & 2.05e+06  \\\\\n",
       "\\bottomrule\n",
       "\\end{tabular}\n",
       "%\\caption{OLS Regression Results}\n",
       "\\end{center}\n",
       "\n",
       "Notes: \\newline\n",
       " [1] Standard Errors assume that the covariance matrix of the errors is correctly specified. \\newline\n",
       " [2] The condition number is large, 2.05e+06. This might indicate that there are \\newline\n",
       " strong multicollinearity or other numerical problems."
      ],
      "text/plain": [
       "<class 'statsmodels.iolib.summary.Summary'>\n",
       "\"\"\"\n",
       "                            OLS Regression Results                            \n",
       "==============================================================================\n",
       "Dep. Variable:           Movie_Rating   R-squared:                       0.764\n",
       "Model:                            OLS   Adj. R-squared:                  0.763\n",
       "Method:                 Least Squares   F-statistic:                     723.8\n",
       "Date:                Thu, 04 Apr 2024   Prob (F-statistic):          4.69e-141\n",
       "Time:                        18:06:23   Log-Likelihood:                -1280.9\n",
       "No. Observations:                 451   AIC:                             2568.\n",
       "Df Residuals:                     448   BIC:                             2580.\n",
       "Df Model:                           2                                         \n",
       "Covariance Type:            nonrobust                                         \n",
       "==============================================================================\n",
       "                 coef    std err          t      P>|t|      [0.025      0.975]\n",
       "------------------------------------------------------------------------------\n",
       "Intercept     44.3038      0.771     57.435      0.000      42.788      45.820\n",
       "MetaScore      0.0344      0.001     24.039      0.000       0.032       0.037\n",
       "Votes       8.511e-06   6.33e-07     13.443      0.000    7.27e-06    9.76e-06\n",
       "==============================================================================\n",
       "Omnibus:                        5.384   Durbin-Watson:                   1.962\n",
       "Prob(Omnibus):                  0.068   Jarque-Bera (JB):                5.368\n",
       "Skew:                          -0.206   Prob(JB):                       0.0683\n",
       "Kurtosis:                       3.341   Cond. No.                     2.05e+06\n",
       "==============================================================================\n",
       "\n",
       "Notes:\n",
       "[1] Standard Errors assume that the covariance matrix of the errors is correctly specified.\n",
       "[2] The condition number is large, 2.05e+06. This might indicate that there are\n",
       "strong multicollinearity or other numerical problems.\n",
       "\"\"\""
      ]
     },
     "execution_count": 16,
     "metadata": {},
     "output_type": "execute_result"
    }
   ],
   "source": [
    "new_model2 = smf.ols('Movie_Rating ~ MetaScore + Votes+' , data=df).fit()\n",
    "new_model2.summary()"
   ]
  },
  {
   "cell_type": "code",
   "execution_count": 38,
   "metadata": {},
   "outputs": [],
   "source": [
    "X= df.drop(columns=['Movie_Rating','Production_cost','Worldwide_gross','Minutes'])\n",
    "y= df['Movie_Rating']\n",
    "\n",
    "X_train, x_test, Y_train, y_test = train_test_split(X, y, test_size=0.2, random_state=42)"
   ]
  },
  {
   "cell_type": "code",
   "execution_count": 39,
   "metadata": {},
   "outputs": [
    {
     "name": "stdout",
     "output_type": "stream",
     "text": [
      "(360, 2) X_train shape\n",
      "(91, 2) x_test shape\n",
      "(360,) y_train shape\n",
      "(91,) y_test shape\n"
     ]
    }
   ],
   "source": [
    "print(X_train.shape , 'X_train shape')\n",
    "print(x_test.shape, 'x_test shape')\n",
    "print(Y_train.shape, 'y_train shape')\n",
    "print(y_test.shape, 'y_test shape')"
   ]
  },
  {
   "cell_type": "code",
   "execution_count": 40,
   "metadata": {},
   "outputs": [
    {
     "name": "stdout",
     "output_type": "stream",
     "text": [
      "(270, 2) x_train shape\n",
      "(90, 2) x_val shape\n",
      "(270,) y_train shape\n",
      "(90,) y_val shape\n"
     ]
    }
   ],
   "source": [
    "x_train, x_val, y_train, y_val = train_test_split(X_train, Y_train, test_size=0.25, random_state=42)\n",
    "print(x_train.shape, 'x_train shape')\n",
    "print(x_val.shape, 'x_val shape')\n",
    "print(y_train.shape, 'y_train shape')\n",
    "print(y_val.shape, 'y_val shape')\n"
   ]
  },
  {
   "cell_type": "code",
   "execution_count": 41,
   "metadata": {},
   "outputs": [],
   "source": [
    "from sklearn.preprocessing import StandardScaler\n",
    "lm=LinearRegression()\n",
    "scaler = StandardScaler()\n",
    "\n",
    "x_train_scaled = scaler.fit_transform(x_train.values)\n",
    "x_val_scaled = scaler.transform(x_val.values)\n",
    "x_test_scaled = scaler.transform(x_test.values)\n",
    "\n",
    "lm_reg = Ridge(alpha=1)\n",
    "\n",
    "poly= PolynomialFeatures(degree=2)\n",
    "\n",
    "x_train_poly = poly.fit_transform(x_train.values)\n",
    "x_val_poly = poly.transform(x_val.values)\n",
    "x_test_poly = poly.transform(x_test.values)\n",
    "\n",
    "lm_poly = LinearRegression()"
   ]
  },
  {
   "cell_type": "code",
   "execution_count": 42,
   "metadata": {},
   "outputs": [
    {
     "name": "stdout",
     "output_type": "stream",
     "text": [
      "Linear Regression R2: 0.80567\n",
      "Ridge Regression R2: 0.80598\n",
      "Polynomial Regression R2: 0.824\n"
     ]
    }
   ],
   "source": [
    "lm.fit(x_train, y_train)\n",
    "print(f'Linear Regression R2: {lm.score(x_val, y_val):.5f}')\n",
    "\n",
    "lm_reg.fit(x_train_scaled, y_train)\n",
    "print(f'Ridge Regression R2: {lm_reg.score(x_val_scaled, y_val):.5f}')\n",
    "\n",
    "lm_poly.fit(x_train_poly, y_train)\n",
    "print(f'Polynomial Regression R2: {lm_poly.score(x_val_poly, y_val):.3f}')"
   ]
  },
  {
   "cell_type": "code",
   "execution_count": 53,
   "metadata": {},
   "outputs": [
    {
     "name": "stdout",
     "output_type": "stream",
     "text": [
      "Polynomial Degree: 1, Validation Score: 0.80567\n",
      "Polynomial Degree: 2, Validation Score: 0.82448\n",
      "Polynomial Degree: 3, Validation Score: 0.82226\n",
      "Polynomial Degree: 4, Validation Score: 0.42723\n",
      "Polynomial Degree: 5, Validation Score: -9.94302\n"
     ]
    }
   ],
   "source": [
    "scores = []\n",
    "poly_degrees = 5\n",
    "\n",
    "for degree in range(1, poly_degrees+1):\n",
    "    \n",
    "    poly = PolynomialFeatures(degree=degree)\n",
    "    \n",
    "    x_train_poly = poly.fit_transform(x_train.values)\n",
    "    x_val_poly = poly.transform(x_val.values)\n",
    "    \n",
    "    lm_poly = LinearRegression()\n",
    "\n",
    "    lm_poly.fit(x_train_poly, y_train)\n",
    "\n",
    "    scores.append(lm_poly.score(x_val_poly, y_val))\n",
    "\n",
    "    \n",
    "for degree, score in enumerate(scores):\n",
    "    print(f\"Polynomial Degree: {degree+1}, Validation Score: {score:.5f}\")"
   ]
  },
  {
   "cell_type": "markdown",
   "metadata": {},
   "source": [
    "2. dereceden Polinomal regresyon ile en yüksek skoru elde edebiliyoruz 0.824"
   ]
  },
  {
   "cell_type": "code",
   "execution_count": 58,
   "metadata": {},
   "outputs": [
    {
     "name": "stdout",
     "output_type": "stream",
     "text": [
      "Polynomial Regression Test R2: 0.774\n"
     ]
    }
   ],
   "source": [
    "X_scaled = scaler.fit_transform(X_train.values)\n",
    "lm_poly.fit(X_scaled, Y_train)\n",
    "print(f'Polynomial Regression Test R2: {lm_poly.score(X_scaled, Y_train):.3f}')"
   ]
  },
  {
   "cell_type": "code",
   "execution_count": 64,
   "metadata": {},
   "outputs": [
    {
     "name": "stdout",
     "output_type": "stream",
     "text": [
      "Cross Validation Scores (Polynomial Regression): [0.7689258  0.73430352 0.81912823 0.66588529 0.81376523]\n",
      "Mean Cross Validation Score (Polynomial Regression): 0.7604016140030019\n"
     ]
    }
   ],
   "source": [
    "lm_poly = LinearRegression()\n",
    "\n",
    "cv_scores_poly = cross_val_score(lm_poly, X_scaled, Y_train, cv=5)\n",
    "\n",
    "print(\"Cross Validation Scores (Polynomial Regression):\", cv_scores_poly)\n",
    "\n",
    "print(\"Mean Cross Validation Score (Polynomial Regression):\", np.mean(cv_scores_poly))"
   ]
  },
  {
   "cell_type": "code",
   "execution_count": 65,
   "metadata": {},
   "outputs": [
    {
     "name": "stdout",
     "output_type": "stream",
     "text": [
      "Cross Validation Scores (Ridge): [0.76916691 0.73447671 0.81885559 0.66622804 0.81339678]\n",
      "Mean Cross Validation Score (Ridge): 0.7604248047959117\n"
     ]
    }
   ],
   "source": [
    "scaler = StandardScaler()\n",
    "X_scaled = scaler.fit_transform(X_train.values)\n",
    "\n",
    "lm_ridge = Ridge(alpha=1)\n",
    "\n",
    "cv_scores_ridge = cross_val_score(lm_ridge, X_scaled, Y_train, cv=5)\n",
    "\n",
    "print(\"Cross Validation Scores (Ridge):\", cv_scores_ridge)\n",
    "\n",
    "print(\"Mean Cross Validation Score (Ridge):\", np.mean(cv_scores_ridge))"
   ]
  },
  {
   "cell_type": "code",
   "execution_count": 66,
   "metadata": {},
   "outputs": [
    {
     "data": {
      "text/html": [
       "<div>\n",
       "<style scoped>\n",
       "    .dataframe tbody tr th:only-of-type {\n",
       "        vertical-align: middle;\n",
       "    }\n",
       "\n",
       "    .dataframe tbody tr th {\n",
       "        vertical-align: top;\n",
       "    }\n",
       "\n",
       "    .dataframe thead th {\n",
       "        text-align: right;\n",
       "    }\n",
       "</style>\n",
       "<table border=\"1\" class=\"dataframe\">\n",
       "  <thead>\n",
       "    <tr style=\"text-align: right;\">\n",
       "      <th></th>\n",
       "      <th>Cross Validated Score (Mean)</th>\n",
       "      <th>Cross Validated Score (Std)</th>\n",
       "    </tr>\n",
       "    <tr>\n",
       "      <th>Model</th>\n",
       "      <th></th>\n",
       "      <th></th>\n",
       "    </tr>\n",
       "  </thead>\n",
       "  <tbody>\n",
       "    <tr>\n",
       "      <th>Ridge Regression</th>\n",
       "      <td>0.760425</td>\n",
       "      <td>0.05629</td>\n",
       "    </tr>\n",
       "    <tr>\n",
       "      <th>Polynomial Regression</th>\n",
       "      <td>0.760402</td>\n",
       "      <td>0.05654</td>\n",
       "    </tr>\n",
       "  </tbody>\n",
       "</table>\n",
       "</div>"
      ],
      "text/plain": [
       "                       Cross Validated Score (Mean)  \\\n",
       "Model                                                 \n",
       "Ridge Regression                           0.760425   \n",
       "Polynomial Regression                      0.760402   \n",
       "\n",
       "                       Cross Validated Score (Std)  \n",
       "Model                                               \n",
       "Ridge Regression                           0.05629  \n",
       "Polynomial Regression                      0.05654  "
      ]
     },
     "execution_count": 66,
     "metadata": {},
     "output_type": "execute_result"
    }
   ],
   "source": [
    "models = ['Polynomial Regression', 'Ridge Regression']\n",
    "\n",
    "cv_scores = [np.mean(cv_scores_poly), np.mean(cv_scores_ridge)]\n",
    "cv_std = [np.std(cv_scores_poly), np.std(cv_scores_ridge)]\n",
    "\n",
    "\n",
    "results = pd.DataFrame({\n",
    "    'Model': models,\n",
    "    'Cross Validated Score (Mean)': cv_scores,\n",
    "    'Cross Validated Score (Std)': cv_std\n",
    "})\n",
    "\n",
    "result_df = results.sort_values(by='Cross Validated Score (Mean)', ascending=False)\n",
    "result_df = result_df.set_index('Model')\n",
    "result_df"
   ]
  },
  {
   "cell_type": "code",
   "execution_count": null,
   "metadata": {},
   "outputs": [],
   "source": []
  }
 ],
 "metadata": {
  "kernelspec": {
   "display_name": "base",
   "language": "python",
   "name": "python3"
  },
  "language_info": {
   "codemirror_mode": {
    "name": "ipython",
    "version": 3
   },
   "file_extension": ".py",
   "mimetype": "text/x-python",
   "name": "python",
   "nbconvert_exporter": "python",
   "pygments_lexer": "ipython3",
   "version": "3.11.7"
  }
 },
 "nbformat": 4,
 "nbformat_minor": 2
}
